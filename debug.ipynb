{
 "cells": [
  {
   "cell_type": "code",
   "execution_count": 5,
   "metadata": {},
   "outputs": [],
   "source": [
    "import os\n",
    "from pathlib import Path\n",
    "\n",
    "import numpy as np\n",
    "from dataprepare_3w.data_3w_generator import w3_generator\n",
    "\n",
    "import torch\n"
   ]
  },
  {
   "cell_type": "code",
   "execution_count": 6,
   "metadata": {},
   "outputs": [],
   "source": [
    "T = 900\n",
    "data_dir = Path(f\"./data/3w_T_{T}/\")\n",
    "if os.path.exists(data_dir):\n",
    "    train = torch.load(f\"{data_dir}/x_train.pt\")\n",
    "    train_output = torch.load(f\"{data_dir}/y_train.pt\")\n",
    "    test = torch.load(f\"{data_dir}/x_test.pt\")\n",
    "    test_output = torch.load(f\"{data_dir}/y_test.pt\")\n",
    "else:\n",
    "    data_dir.mkdir(exist_ok=True, parents=True)\n",
    "    train, train_output, test, test_output = w3_generator(900, 0.7, overlap_ratio=0)\n",
    "    train_output = np.expand_dims(train_output, -1)\n",
    "    test_output = np.expand_dims(test_output, -1)\n",
    "\n",
    "    torch.save(train, data_dir / \"x_train.pt\")\n",
    "    torch.save(train_output, data_dir / \"y_train.pt\")\n",
    "    torch.save(test, data_dir / \"x_test.pt\")\n",
    "    torch.save(test_output, data_dir / \"y_test.pt\")"
   ]
  },
  {
   "cell_type": "code",
   "execution_count": 7,
   "metadata": {},
   "outputs": [],
   "source": [
    "has_nan = torch.any(torch.isnan(torch.Tensor(train)))"
   ]
  },
  {
   "cell_type": "code",
   "execution_count": 8,
   "metadata": {},
   "outputs": [
    {
     "data": {
      "text/plain": [
       "tensor(False)"
      ]
     },
     "execution_count": 8,
     "metadata": {},
     "output_type": "execute_result"
    }
   ],
   "source": [
    "has_nan"
   ]
  },
  {
   "cell_type": "code",
   "execution_count": 9,
   "metadata": {},
   "outputs": [
    {
     "name": "stdout",
     "output_type": "stream",
     "text": [
      "(tensor([], dtype=torch.int64), tensor([], dtype=torch.int64), tensor([], dtype=torch.int64))\n"
     ]
    }
   ],
   "source": [
    "nan_mask = torch.isnan(torch.Tensor(train))\n",
    "\n",
    "# Get the indices of the True values in the mask\n",
    "nan_indices = torch.where(nan_mask)\n",
    "\n",
    "# Print the result\n",
    "print(nan_indices)"
   ]
  },
  {
   "cell_type": "code",
   "execution_count": 10,
   "metadata": {},
   "outputs": [],
   "source": [
    "import pandas as pd\n",
    "\n",
    "df = pd.read_csv(\"/home/shida/3W/dataset/4/WELL-00001_20170316120203.csv\")\n",
    "df = df[['P-TPT', 'T-TPT', 'P-MON-CKP']]"
   ]
  },
  {
   "cell_type": "code",
   "execution_count": 11,
   "metadata": {},
   "outputs": [
    {
     "data": {
      "text/plain": [
       "False"
      ]
     },
     "execution_count": 11,
     "metadata": {},
     "output_type": "execute_result"
    }
   ],
   "source": [
    "df.isnull().any().any()"
   ]
  },
  {
   "cell_type": "code",
   "execution_count": 12,
   "metadata": {},
   "outputs": [
    {
     "name": "stdout",
     "output_type": "stream",
     "text": [
      "Series([], dtype: float64)\n"
     ]
    },
    {
     "name": "stderr",
     "output_type": "stream",
     "text": [
      "/tmp/ipykernel_126093/1567074857.py:4: FutureWarning: The default dtype for empty Series will be 'object' instead of 'float64' in a future version. Specify a dtype explicitly to silence this warning.\n",
      "  indices = pd.Series(mask.where(mask).stack().index.tolist())\n"
     ]
    }
   ],
   "source": [
    "mask = df.isnull()\n",
    "\n",
    "# use the where() method to convert the boolean mask to a Series of indices\n",
    "indices = pd.Series(mask.where(mask).stack().index.tolist())\n",
    "\n",
    "# print the indices of NaN values\n",
    "print(indices)"
   ]
  },
  {
   "cell_type": "code",
   "execution_count": null,
   "metadata": {},
   "outputs": [],
   "source": []
  }
 ],
 "metadata": {
  "kernelspec": {
   "display_name": "ray",
   "language": "python",
   "name": "python3"
  },
  "language_info": {
   "codemirror_mode": {
    "name": "ipython",
    "version": 3
   },
   "file_extension": ".py",
   "mimetype": "text/x-python",
   "name": "python",
   "nbconvert_exporter": "python",
   "pygments_lexer": "ipython3",
   "version": "3.8.16"
  },
  "orig_nbformat": 4
 },
 "nbformat": 4,
 "nbformat_minor": 2
}
