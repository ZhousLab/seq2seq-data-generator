{
 "cells": [
  {
   "cell_type": "code",
   "execution_count": 17,
   "metadata": {},
   "outputs": [],
   "source": [
    "import numpy as np\n",
    "import torch\n",
    "from libs.seq2seq_model import RNNModel\n",
    "from libs.lfgenerator import Shift\n",
    "from pytorch_lightning import Trainer\n",
    "import matplotlib.pyplot as plt"
   ]
  },
  {
   "cell_type": "code",
   "execution_count": 18,
   "metadata": {},
   "outputs": [],
   "source": [
    "def truncatedloss(y, y_hat, loss=torch.nn.MSELoss(), t=10):\n",
    "    truncated_loss = 0\n",
    "    length = y.shape[-2]\n",
    "\n",
    "    for i in range(length - t, length):\n",
    "        truncated_loss += loss(y[:, i, :], y_hat[:, i, :])\n",
    "\n",
    "    return truncated_loss"
   ]
  },
  {
   "cell_type": "code",
   "execution_count": 19,
   "metadata": {},
   "outputs": [],
   "source": [
    "# model = S4DModel.load_from_checkpoint(\"runs/s4d_shift/version_2/checkpoints/s4d_shift-epoch=100-valid_loss=3.27e-08.ckpt\")\n",
    "model = RNNModel.load_from_checkpoint(\"/home/shida/seq2seq-data-generator/runs/tanhRNN_tcw/version_2/checkpoints/tanhRNN_tcw-epoch=87-valid_loss=2.79e+02.ckpt\")\n",
    "# generator = Shift({'input_dim':1, 'path_len':5 ,'shift':[1], 'data_num':2200})\n",
    "\n",
    "# x, y = generator.generate()\n",
    "# x = torch.tensor(x)\n",
    "# y = torch.tensor(y)\n",
    "# dataset = torch.utils.data.TensorDataset(x, y)\n",
    "# loader = torch.utils.data.DataLoader(dataset, batch_size=256,drop_last=True)"
   ]
  },
  {
   "cell_type": "code",
   "execution_count": 20,
   "metadata": {},
   "outputs": [],
   "source": [
    "# trainer = Trainer(accelerator=\"gpu\", devices=[3], precision=64)\n",
    "# trainer.validate(model=model, dataloaders=loader)"
   ]
  },
  {
   "cell_type": "code",
   "execution_count": 21,
   "metadata": {},
   "outputs": [],
   "source": [
    "# x[0]"
   ]
  },
  {
   "cell_type": "code",
   "execution_count": 22,
   "metadata": {},
   "outputs": [],
   "source": [
    "# model(x)[0]"
   ]
  },
  {
   "cell_type": "code",
   "execution_count": 23,
   "metadata": {},
   "outputs": [],
   "source": [
    "id = torch.zeros(1,110,1)\n",
    "id[0,0,0] = 1.0"
   ]
  },
  {
   "cell_type": "code",
   "execution_count": 24,
   "metadata": {},
   "outputs": [
    {
     "data": {
      "image/png": "[encoded data removed]",
      "text/plain": [
       "<Figure size 640x480 with 1 Axes>"
      ]
     },
     "metadata": {},
     "output_type": "display_data"
    }
   ],
   "source": [
    "\n",
    "# model.return_sequence = True\n",
    "output = model(id)[0,:].detach().cpu().numpy()\n",
    "output -= output[-1]\n",
    "output = np.abs(output)\n",
    "plt.plot(output)\n",
    "plt.yscale(\"log\")\n",
    "# plt.xscale(\"log\")"
   ]
  },
  {
   "cell_type": "code",
   "execution_count": null,
   "metadata": {},
   "outputs": [],
   "source": []
  }
 ],
 "metadata": {
  "kernelspec": {
   "display_name": "env1",
   "language": "python",
   "name": "python3"
  },
  "language_info": {
   "codemirror_mode": {
    "name": "ipython",
    "version": 3
   },
   "file_extension": ".py",
   "mimetype": "text/x-python",
   "name": "python",
   "nbconvert_exporter": "python",
   "pygments_lexer": "ipython3",
   "version": "3.8.16"
  },
  "orig_nbformat": 4
 },
 "nbformat": 4,
 "nbformat_minor": 2
}
