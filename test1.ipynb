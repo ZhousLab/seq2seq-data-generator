{
 "cells": [
  {
   "cell_type": "code",
   "execution_count": 1,
   "metadata": {},
   "outputs": [],
   "source": [
    "from torch import nn\n",
    "from libs.seq2seq_model import LinearRNNModel"
   ]
  },
  {
   "cell_type": "code",
   "execution_count": 2,
   "metadata": {},
   "outputs": [],
   "source": [
    "config = {}"
   ]
  },
  {
   "cell_type": "code",
   "execution_count": 3,
   "metadata": {},
   "outputs": [],
   "source": [
    "config['loss'] = nn.MSELoss()\n",
    "config['optim'] = 'Adam'\n",
    "config['lr'] = 1e-3\n",
    "\n",
    "config['hid_dim'] = 16 \n",
    "config['input_dim'] = 1\n",
    "config['output_dim'] = 1"
   ]
  },
  {
   "cell_type": "code",
   "execution_count": 4,
   "metadata": {},
   "outputs": [
    {
     "data": {
      "text/plain": [
       "LinearRNNModel(\n",
       "  (loss): MSELoss()\n",
       "  (rnn): LinearRNN(\n",
       "    (input_ff): Linear(in_features=1, out_features=16, bias=False)\n",
       "    (hidden_ff): Linear(in_features=16, out_features=16, bias=False)\n",
       "    (output_ff): Linear(in_features=16, out_features=1, bias=False)\n",
       "  )\n",
       ")"
      ]
     },
     "execution_count": 4,
     "metadata": {},
     "output_type": "execute_result"
    }
   ],
   "source": [
    "LinearRNNModel(config)"
   ]
  }
 ],
 "metadata": {
  "kernelspec": {
   "display_name": "env1",
   "language": "python",
   "name": "python3"
  },
  "language_info": {
   "codemirror_mode": {
    "name": "ipython",
    "version": 3
   },
   "file_extension": ".py",
   "mimetype": "text/x-python",
   "name": "python",
   "nbconvert_exporter": "python",
   "pygments_lexer": "ipython3",
   "version": "3.10.10"
  },
  "orig_nbformat": 4
 },
 "nbformat": 4,
 "nbformat_minor": 2
}
